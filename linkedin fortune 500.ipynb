{
 "cells": [
  {
   "cell_type": "code",
   "execution_count": 7,
   "id": "d8e2016a",
   "metadata": {},
   "outputs": [],
   "source": [
    "import pandas as pd \n",
    "import re\n",
    "from selenium import webdriver \n",
    "from selenium.webdriver.common.keys import Keys\n",
    "from selenium.webdriver.common.by import By\n",
    "from bs4 import BeautifulSoup\n",
    "import requests\n"
   ]
  },
  {
   "cell_type": "code",
   "execution_count": 8,
   "id": "832d6c38",
   "metadata": {},
   "outputs": [
    {
     "name": "stderr",
     "output_type": "stream",
     "text": [
      "C:\\Users\\manoj\\AppData\\Local\\Temp\\ipykernel_8944\\4047988551.py:1: DeprecationWarning: executable_path has been deprecated, please pass in a Service object\n",
      "  browser = webdriver.Edge(r\"C:\\Users\\manoj\\Documents\\applied ai\\web scr\\\\msedgedriver.exe\")\n"
     ]
    }
   ],
   "source": [
    "browser = webdriver.Edge(r\"C:\\Users\\manoj\\Documents\\applied ai\\web scr\\\\msedgedriver.exe\")\n",
    "browser.get(\"https://www.linkedin.com/home\")"
   ]
  },
  {
   "cell_type": "code",
   "execution_count": 6,
   "id": "415deb23",
   "metadata": {},
   "outputs": [],
   "source": []
  },
  {
   "cell_type": "code",
   "execution_count": 9,
   "id": "b3ea19cc",
   "metadata": {},
   "outputs": [],
   "source": [
    "username= browser.find_element(By.ID,\"session_key\")\n",
    "username.send_keys(\"\")\n",
    "password = browser.find_element(By.ID,\"session_password\")\n",
    "password.send_keys(\"\")"
   ]
  },
  {
   "cell_type": "code",
   "execution_count": 12,
   "id": "70af098c",
   "metadata": {},
   "outputs": [],
   "source": [
    "signin_field = browser.find_element(By.CLASS_NAME,\"sign-in-form__submit-button\")\n",
    "signin_field.click()\n"
   ]
  },
  {
   "cell_type": "code",
   "execution_count": 13,
   "id": "ef67c3aa",
   "metadata": {},
   "outputs": [],
   "source": [
    "browser.get(\"https://www.linkedin.com/pulse/what-fortune-500-company-get-hired-by-linkedin-news/\")"
   ]
  },
  {
   "cell_type": "markdown",
   "id": "aaed1e80",
   "metadata": {},
   "source": [
    "##This is link of webpage i scrapped in linkedin https://www.linkedin.com/pulse/what-fortune-500-company-get-hired-by-linkedin-news/  (in this page brief information is give about fortune 500 companies)"
   ]
  },
  {
   "cell_type": "code",
   "execution_count": 18,
   "id": "f5aa1a17",
   "metadata": {},
   "outputs": [
    {
     "name": "stdout",
     "output_type": "stream",
     "text": [
      "What makes an organization or business a Fortune 500 company? And should you, as a job seeker, aim to work for one? Various factors come into play when it comes to defining and ranking Fortune 500 companies. And such employers are not inherently “great” employers or the best fit for every job seeker.\n"
     ]
    }
   ],
   "source": [
    "ins0= browser.find_element(By.CLASS_NAME,\"reader-text-block__paragraph\")    \n",
    "print(ins0.text)\n"
   ]
  },
  {
   "cell_type": "code",
   "execution_count": 22,
   "id": "37511a08",
   "metadata": {},
   "outputs": [
    {
     "name": "stdout",
     "output_type": "stream",
     "text": [
      "<Response [200]>\n"
     ]
    }
   ],
   "source": [
    "url = \"https://www.linkedin.com/pulse/what-fortune-500-company-get-hired-by-linkedin-news/\"\n",
    "page = requests.get(url)\n",
    "print(page)"
   ]
  },
  {
   "cell_type": "code",
   "execution_count": 23,
   "id": "59271a8b",
   "metadata": {},
   "outputs": [],
   "source": [
    "soup = BeautifulSoup(page.content,'html.parser')"
   ]
  },
  {
   "cell_type": "code",
   "execution_count": 33,
   "id": "812bc166",
   "metadata": {},
   "outputs": [
    {
     "name": "stdout",
     "output_type": "stream",
     "text": [
      "What Are Fortune 500 Companies?\n",
      "Working for a Fortune 500 Company\n",
      "More articles by this author\n",
      "Others also viewed\n",
      "Explore topics\n"
     ]
    }
   ],
   "source": [
    "for i in soup.find_all('h2'):\n",
    "    print(i.text.strip())"
   ]
  },
  {
   "cell_type": "markdown",
   "id": "dbe7a38c",
   "metadata": {},
   "source": [
    "Top 10 companies of fortune 500"
   ]
  },
  {
   "cell_type": "code",
   "execution_count": 47,
   "id": "5830ab26",
   "metadata": {},
   "outputs": [
    {
     "data": {
      "text/plain": [
       "['Walmart',\n",
       " 'Amazon',\n",
       " 'Apple',\n",
       " 'CVS Health',\n",
       " 'UnitedHealth Group',\n",
       " 'ExxonMobil',\n",
       " 'Berkshire Hathaway',\n",
       " 'Alphabet',\n",
       " 'McKesson',\n",
       " 'AmerisourceBergen']"
      ]
     },
     "execution_count": 47,
     "metadata": {},
     "output_type": "execute_result"
    }
   ],
   "source": [
    "d=[]\n",
    "for i in soup.find('ol'):\n",
    "    d.append(i.text.strip())\n",
    "    \n",
    "d    \n"
   ]
  },
  {
   "cell_type": "markdown",
   "id": "9898a445",
   "metadata": {},
   "source": [
    "This is s about fortune 500 "
   ]
  },
  {
   "cell_type": "code",
   "execution_count": 56,
   "id": "8f0ce802",
   "metadata": {},
   "outputs": [
    {
     "name": "stdout",
     "output_type": "stream",
     "text": [
      "What makes an organization or business a Fortune 500 company? And should you, as a job seeker, aim to work for one? Various factors come into play when it comes to defining and ranking Fortune 500 companies. And such employers are not inherently “great” employers or the best fit for every job seeker.\n",
      "By Mariah Flores\n",
      "Fortune 500.\n",
      "A term I’m sure most of us hear often, but may not understand its meaning and how a company qualifies for this distinction.\n",
      "We may even hear this term and think, “Hm, maybe I should be working for a Fortune 500 company.”\n",
      "In the working world, there are various industries, career paths and companies that we can work for. But what truly sets them apart and which ones should we pursue?\n",
      "In reality, that answer is dependent on what you hope to achieve and on your overall professional goals.\n",
      "It’s easy to get so caught up with labels, brands, big name companies or even certain types of jobs that we forget any successful career is one that we’re truly passionate about and enjoy spending time in.\n",
      "We’ll explore how Fortune 500 companies are determined and what makes them so special, compared to other companies. Additionally, we’ll dive into whether or not you as a job seeker should aim to work for one.\n",
      "According to Concordia University Texas, “the Fortune 500 is an annual list of 500 of the largest companies in the United States based on revenue for the accompanying fiscal year. Fortune magazine, a publication focused on the business industry, publishes the list. The Fortune 500 list is a golden standard in the field of business.”\n",
      "For many in the working world, “Fortune 500” is synonymous with a successful business or organization.\n",
      "Fortune Magazine, a widely-recognized American business publication, annually ranks the largest companies in the United States. These companies represent the best of the best in the business realm. They’re ranked by the total revenue generated for the respective fiscal years.\n",
      "Fortune breaks down their methodology, explaining that “included in the survey are companies that are incorporated in the U.S., operate in the U.S., and file financial statements with a government agency.”\n",
      "The publication excludes private companies not filing with a government agency, companies incorporated outside the U.S., and U.S. companies consolidated by other companies (domestic or foreign). Also, companies that failed to report full financial statements for at least three-quarters of the current fiscal year are excluded.\n",
      "In 2022, the Fortune 500 list represented a blowout year for all companies featured, as they endured rising inflation, supply chain issues and a continuation of the COVID-19 pandemic.\n",
      "Despite all those hurdles, the Fortune 500 companies of 2022 generated over $16.1 trillion in revenue and $1.8 trillion in profits. It goes without saying, but that’s a lot of money and notably a record for the Fortune 500.\n",
      "Some of the most profitable companies this year include Apple, Microsoft, Alphabet, Amazon and Exxon Mobil. Newcomers to the list include Cleveland-Cliffs, Moderna and International Flavors and Fragrances.\n",
      "(Editor’s Note: Microsoft is a corporate owner of LinkedIn)\n",
      "Other sub-distinctions are Biggest Employers and Biggest Jumps.\n",
      "The list is updated annually, filled with pertinent data, statistics and descriptions of the companies. It’s a great resource for job seekers looking to work for the top American companies and also stay up to date with the working world.\n",
      "In other related news, the number of Black Fortune 500 CEOs returned to a record high in 2022. “This year, six Black chief executives sit atop Fortune 500 companies, making up just over 1% of businesses on the 2022 ranking.”\n",
      "You can read more about the growing diversity of Fortune 500 companies in this recent post from my LinkedIn News colleague Harriet Sinclair, U.S. news editor.\n",
      "So, is it better to work for a Fortune 500 company and should job seekers aim to work for one?\n",
      "To be honest, the answer is a personal one. What are your career goals? Desired profession? Passions and values? Self-reflection and a holistic view of your career path, along with a review of the list’s methodology and rankings, will help you make an informed decision.\n",
      "If you want to work under a female CEO, CVS Health or General Motors could be the perfect fit for you. Interested in a Global 500 company? Amazon, Walmart or Cigna are possible prospects.\n",
      "Additionally, some of the best companies to work for are also featured on the annual Fortune 500 list.\n",
      "Compiled by both Fortune and partnering Great Place to Work, the 100 Best Companies to Work For list recently featured the best businesses that are stepping up to support their employees during such unprecedented times.\n",
      "That being said, it’s impressive that several Fortune 500 companies made the list, including:\n",
      "Their combined employee experience (flexibility, diversity, PTO, etc.) helps them stand out.\n",
      "To be considered for this list, companies must already be Great Place to Work-Certified, have at least 1,000 U.S. employees and cannot be a government agency. Both employees and employers can complete survey questions regarding various aspects of their organization’s culture. Things like fairness and trust to company size and demographics are also assessed.\n",
      "There are so many factors to consider when choosing a future employer. Yes, Fortune 500 companies represent that gold standard in business, but the reasons for their rankings vary. No matter what, your success and happiness shouldn’t be dependent on rankings but on passion and values.\n",
      "\n",
      "To view or add a comment, sign in\n",
      "      \n",
      "      To view or add a comment, sign in\n"
     ]
    }
   ],
   "source": [
    "for i in soup.find_all('p'):\n",
    "    print(i.text.strip())"
   ]
  },
  {
   "cell_type": "code",
   "execution_count": null,
   "id": "58365853",
   "metadata": {},
   "outputs": [],
   "source": []
  }
 ],
 "metadata": {
  "kernelspec": {
   "display_name": "Python 3 (ipykernel)",
   "language": "python",
   "name": "python3"
  },
  "language_info": {
   "codemirror_mode": {
    "name": "ipython",
    "version": 3
   },
   "file_extension": ".py",
   "mimetype": "text/x-python",
   "name": "python",
   "nbconvert_exporter": "python",
   "pygments_lexer": "ipython3",
   "version": "3.8.8"
  }
 },
 "nbformat": 4,
 "nbformat_minor": 5
}

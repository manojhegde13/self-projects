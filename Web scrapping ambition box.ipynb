{
 "cells": [
  {
   "cell_type": "code",
   "execution_count": 4,
   "id": "92334d2d",
   "metadata": {},
   "outputs": [],
   "source": [
    "from bs4 import BeautifulSoup\n",
    "import requests\n",
    "import pandas as pd \n",
    "import mysql.connector"
   ]
  },
  {
   "cell_type": "code",
   "execution_count": 5,
   "id": "f3bd9537",
   "metadata": {},
   "outputs": [
    {
     "name": "stdout",
     "output_type": "stream",
     "text": [
      "<Response [200]>\n"
     ]
    }
   ],
   "source": [
    "url = \"https://www.ambitionbox.com/list-of-companies?IndustryName=internet&sort_by=popularity&CompanyLocation=bengaluru\"\n",
    "page = requests.get(url)\n",
    "print(page)"
   ]
  },
  {
   "cell_type": "code",
   "execution_count": 6,
   "id": "0021323d",
   "metadata": {},
   "outputs": [],
   "source": [
    "soup = BeautifulSoup(page.content,'html.parser')"
   ]
  },
  {
   "cell_type": "code",
   "execution_count": 7,
   "id": "3be52daf",
   "metadata": {},
   "outputs": [
    {
     "data": {
      "text/plain": [
       "1"
      ]
     },
     "execution_count": 7,
     "metadata": {},
     "output_type": "execute_result"
    }
   ],
   "source": [
    "len(soup.find_all('h1'))"
   ]
  },
  {
   "cell_type": "code",
   "execution_count": 8,
   "id": "667d75da",
   "metadata": {},
   "outputs": [
    {
     "data": {
      "text/plain": [
       "29"
      ]
     },
     "execution_count": 8,
     "metadata": {},
     "output_type": "execute_result"
    }
   ],
   "source": [
    "len(soup.find_all('h2'))"
   ]
  },
  {
   "cell_type": "code",
   "execution_count": 9,
   "id": "9e389475",
   "metadata": {},
   "outputs": [
    {
     "data": {
      "text/plain": [
       "'\\n\\t\\t\\t\\t\\t\\t\\t\\t\\tIQVIA\\n\\t\\t\\t\\t\\t\\t\\t\\t'"
      ]
     },
     "execution_count": 9,
     "metadata": {},
     "output_type": "execute_result"
    }
   ],
   "source": [
    "soup.find_all('h2')[5].text"
   ]
  },
  {
   "cell_type": "code",
   "execution_count": 12,
   "id": "5682097b",
   "metadata": {},
   "outputs": [
    {
     "name": "stdout",
     "output_type": "stream",
     "text": [
      "Capgemini\n",
      "Amazon\n",
      "Hewlett-Packard ...\n",
      "BYJU'S\n",
      "Oracle\n",
      "IQVIA\n",
      "Flipkart\n",
      "24/7 Customer\n",
      "Udaan\n",
      "Ericsson\n",
      "Dell\n",
      "Siemens\n",
      "Cisco\n",
      "State Street Cor...\n",
      "Swiggy\n",
      "The Himalaya Dru...\n",
      "BlackBuck\n",
      "Unacademy\n",
      "Vedantu\n",
      "Myntra\n",
      "BigBasket\n",
      "Meesho\n",
      "Novo Nordisk\n",
      "VMware Software\n",
      "EXL Service\n",
      "TE Connectivity\n",
      "Fidelity Investm...\n",
      "Medi Assist Indi...\n",
      "Lumen Technologi...\n"
     ]
    }
   ],
   "source": [
    "for i in soup.find_all('h2'):\n",
    "    print(i.text.strip())"
   ]
  },
  {
   "cell_type": "code",
   "execution_count": 13,
   "id": "f08c27c4",
   "metadata": {},
   "outputs": [
    {
     "data": {
      "text/plain": [
       "29"
      ]
     },
     "execution_count": 13,
     "metadata": {},
     "output_type": "execute_result"
    }
   ],
   "source": [
    "len(soup.find_all('h2'))"
   ]
  },
  {
   "cell_type": "code",
   "execution_count": 14,
   "id": "1d94c4b3",
   "metadata": {},
   "outputs": [
    {
     "name": "stdout",
     "output_type": "stream",
     "text": [
      "3.9\n",
      "4.2\n",
      "4.3\n",
      "3.6\n",
      "3.9\n",
      "4.2\n",
      "4.2\n",
      "3.6\n",
      "4.2\n",
      "4.3\n",
      "4.2\n",
      "4.2\n",
      "4.5\n",
      "3.8\n",
      "4.1\n",
      "4.2\n",
      "4.0\n",
      "3.4\n",
      "3.4\n",
      "4.2\n",
      "4.1\n",
      "3.8\n",
      "4.0\n",
      "4.4\n",
      "3.9\n",
      "4.2\n",
      "4.3\n",
      "3.8\n",
      "3.9\n"
     ]
    }
   ],
   "source": [
    "for i in soup.find_all('p',class_=\"rating\"):\n",
    "    print(i.text.strip())"
   ]
  },
  {
   "cell_type": "code",
   "execution_count": 15,
   "id": "42f8e060",
   "metadata": {},
   "outputs": [
    {
     "data": {
      "text/plain": [
       "29"
      ]
     },
     "execution_count": 15,
     "metadata": {},
     "output_type": "execute_result"
    }
   ],
   "source": [
    "len(soup.find_all('p',class_=\"rating\"))"
   ]
  },
  {
   "cell_type": "code",
   "execution_count": 16,
   "id": "f4d771d1",
   "metadata": {},
   "outputs": [
    {
     "name": "stdout",
     "output_type": "stream",
     "text": [
      "(23k Reviews)\n",
      "(16.9k Reviews)\n",
      "(3.6k Reviews)\n",
      "(10.7k Reviews)\n",
      "(3.8k Reviews)\n",
      "(2.5k Reviews)\n",
      "(10.8k Reviews)\n",
      "(1.8k Reviews)\n",
      "(4.2k Reviews)\n",
      "(5.4k Reviews)\n",
      "(3.6k Reviews)\n",
      "(4.8k Reviews)\n",
      "(1.1k Reviews)\n",
      "(1.4k Reviews)\n",
      "(2.2k Reviews)\n",
      "(1.4k Reviews)\n",
      "(1.2k Reviews)\n",
      "(841 Reviews)\n",
      "(918 Reviews)\n",
      "(1.3k Reviews)\n",
      "(2.3k Reviews)\n",
      "(743 Reviews)\n",
      "(586 Reviews)\n",
      "(505 Reviews)\n",
      "(5.2k Reviews)\n",
      "(616 Reviews)\n",
      "(1.2k Reviews)\n",
      "(909 Reviews)\n",
      "(479 Reviews)\n"
     ]
    }
   ],
   "source": [
    "for i in soup.find_all('a',class_=\"review-count sbold-Labels\"):\n",
    "    print(i.text.strip())"
   ]
  },
  {
   "cell_type": "code",
   "execution_count": 17,
   "id": "60c221fa",
   "metadata": {},
   "outputs": [
    {
     "name": "stdout",
     "output_type": "stream",
     "text": [
      "(23k Reviews)\n",
      "(16.9k Reviews)\n",
      "(3.6k Reviews)\n",
      "(10.7k Reviews)\n",
      "(3.8k Reviews)\n",
      "(2.5k Reviews)\n",
      "(10.8k Reviews)\n",
      "(1.8k Reviews)\n",
      "(4.2k Reviews)\n",
      "(5.4k Reviews)\n",
      "(3.6k Reviews)\n",
      "(4.8k Reviews)\n",
      "(1.1k Reviews)\n",
      "(1.4k Reviews)\n",
      "(2.2k Reviews)\n",
      "(1.4k Reviews)\n",
      "(1.2k Reviews)\n",
      "(841 Reviews)\n",
      "(918 Reviews)\n",
      "(1.3k Reviews)\n",
      "(2.3k Reviews)\n",
      "(743 Reviews)\n",
      "(586 Reviews)\n",
      "(505 Reviews)\n",
      "(5.2k Reviews)\n",
      "(616 Reviews)\n",
      "(1.2k Reviews)\n",
      "(909 Reviews)\n",
      "(479 Reviews)\n"
     ]
    }
   ],
   "source": [
    "for i in soup.find_all('a',class_=\"review-count sbold-Labels\"):\n",
    "    print(i.text.strip())"
   ]
  },
  {
   "cell_type": "code",
   "execution_count": 18,
   "id": "6050ad24",
   "metadata": {},
   "outputs": [],
   "source": [
    "for i in soup.find_all('/i',class_=\"icon-domain\"):\n",
    "    print(i.text.strip())"
   ]
  },
  {
   "cell_type": "markdown",
   "id": "aa45882b",
   "metadata": {},
   "source": [
    "here now craeting variable for each company it stores data instead above method its searching for tag in whole webpage,instead of that if we create variable then if we give tag it only searches the given tag in that varaiable only so its computaionnly better  "
   ]
  },
  {
   "cell_type": "code",
   "execution_count": 19,
   "id": "5a1e7997",
   "metadata": {},
   "outputs": [],
   "source": [
    "eachblock = soup.find_all('div',class_='company-content-wrapper')"
   ]
  },
  {
   "cell_type": "code",
   "execution_count": 20,
   "id": "f11143de",
   "metadata": {},
   "outputs": [
    {
     "data": {
      "text/plain": [
       "29"
      ]
     },
     "execution_count": 20,
     "metadata": {},
     "output_type": "execute_result"
    }
   ],
   "source": [
    "len(eachblock)"
   ]
  },
  {
   "cell_type": "code",
   "execution_count": null,
   "id": "f92b6f2e",
   "metadata": {},
   "outputs": [],
   "source": []
  },
  {
   "cell_type": "code",
   "execution_count": 36,
   "id": "71be08a6",
   "metadata": {},
   "outputs": [],
   "source": [
    "name=[]\n",
    "rating=[]\n",
    "reviews=[]\n",
    "ctype=[]\n",
    "hq=[]\n",
    "how_old=[]\n",
    "no_of_employee=[]\n",
    "\n",
    "for i in eachblock:\n",
    "    name.append(i.find('h2').text.strip())\n",
    "    rating.append(i.find('p',class_=\"rating\").text.strip())\n",
    "    reviews.append(i.find('a',class_=\"review-count sbold-Labels\").text.strip())\n",
    "    ctype.append(i.find_all('p',class_='infoEntity')[0].text.strip())\n",
    "    hq.append(i.find_all('p',class_='infoEntity')[1].text.strip())\n",
    "    how_old.append(i.find_all('p',class_='infoEntity')[2].text.strip())\n",
    "    \n",
    "    "
   ]
  },
  {
   "cell_type": "code",
   "execution_count": 38,
   "id": "fe1b575d",
   "metadata": {},
   "outputs": [
    {
     "data": {
      "text/plain": [
       "['55 years old',\n",
       " '28 years old',\n",
       " '7 years old',\n",
       " '11 years old',\n",
       " '45 years old',\n",
       " '40 years old',\n",
       " '15 years old',\n",
       " '22 years old',\n",
       " '6 years old',\n",
       " '146 years old',\n",
       " '38 years old',\n",
       " '175 years old',\n",
       " '38 years old',\n",
       " '230 years old',\n",
       " '8 years old',\n",
       " '92 years old',\n",
       " '7 years old',\n",
       " '7 years old',\n",
       " '11 years old',\n",
       " '15 years old',\n",
       " '11 years old',\n",
       " '7 years old',\n",
       " '99 years old',\n",
       " '24 years old',\n",
       " '23 years old',\n",
       " '81 years old',\n",
       " '76 years old',\n",
       " '22 years old',\n",
       " '1k-5k Employees (India)']"
      ]
     },
     "execution_count": 38,
     "metadata": {},
     "output_type": "execute_result"
    }
   ],
   "source": [
    "how_old"
   ]
  },
  {
   "cell_type": "code",
   "execution_count": 25,
   "id": "7e4b1475",
   "metadata": {},
   "outputs": [
    {
     "data": {
      "text/plain": [
       "29"
      ]
     },
     "execution_count": 25,
     "metadata": {},
     "output_type": "execute_result"
    }
   ],
   "source": [
    "len(ctype)"
   ]
  },
  {
   "cell_type": "code",
   "execution_count": null,
   "id": "f63d1891",
   "metadata": {},
   "outputs": [],
   "source": []
  },
  {
   "cell_type": "code",
   "execution_count": 26,
   "id": "ac6ba5e9",
   "metadata": {},
   "outputs": [
    {
     "data": {
      "text/plain": [
       "['Public',\n",
       " 'Public',\n",
       " 'Private',\n",
       " 'Private',\n",
       " 'Public',\n",
       " 'Partnership',\n",
       " 'Public',\n",
       " 'Private',\n",
       " 'Private',\n",
       " 'Private',\n",
       " 'Private',\n",
       " 'Public',\n",
       " 'Public',\n",
       " 'Private',\n",
       " 'Private',\n",
       " 'Private',\n",
       " 'Private',\n",
       " 'Private',\n",
       " 'Private',\n",
       " 'Private',\n",
       " 'Private',\n",
       " 'Private',\n",
       " 'Private',\n",
       " 'Private',\n",
       " 'Private',\n",
       " 'Private',\n",
       " 'Private',\n",
       " 'Private',\n",
       " 'Monroe,Louisiana + 10 more']"
      ]
     },
     "execution_count": 26,
     "metadata": {},
     "output_type": "execute_result"
    }
   ],
   "source": [
    "ctype"
   ]
  },
  {
   "cell_type": "code",
   "execution_count": 27,
   "id": "96907d0d",
   "metadata": {},
   "outputs": [
    {
     "data": {
      "text/plain": [
       "['(23k Reviews)',\n",
       " '(16.9k Reviews)',\n",
       " '(3.6k Reviews)',\n",
       " '(10.7k Reviews)',\n",
       " '(3.8k Reviews)',\n",
       " '(2.5k Reviews)',\n",
       " '(10.8k Reviews)',\n",
       " '(1.8k Reviews)',\n",
       " '(4.2k Reviews)',\n",
       " '(5.4k Reviews)',\n",
       " '(3.6k Reviews)',\n",
       " '(4.8k Reviews)',\n",
       " '(1.1k Reviews)',\n",
       " '(1.4k Reviews)',\n",
       " '(2.2k Reviews)',\n",
       " '(1.4k Reviews)',\n",
       " '(1.2k Reviews)',\n",
       " '(841 Reviews)',\n",
       " '(918 Reviews)',\n",
       " '(1.3k Reviews)',\n",
       " '(2.3k Reviews)',\n",
       " '(743 Reviews)',\n",
       " '(586 Reviews)',\n",
       " '(505 Reviews)',\n",
       " '(5.2k Reviews)',\n",
       " '(616 Reviews)',\n",
       " '(1.2k Reviews)',\n",
       " '(909 Reviews)',\n",
       " '(479 Reviews)']"
      ]
     },
     "execution_count": 27,
     "metadata": {},
     "output_type": "execute_result"
    }
   ],
   "source": [
    "reviews"
   ]
  },
  {
   "cell_type": "code",
   "execution_count": 30,
   "id": "d4ca6f42",
   "metadata": {},
   "outputs": [
    {
     "data": {
      "text/plain": [
       "['Capgemini',\n",
       " 'Amazon',\n",
       " 'Hewlett-Packard ...',\n",
       " \"BYJU'S\",\n",
       " 'Oracle',\n",
       " 'IQVIA',\n",
       " 'Flipkart',\n",
       " '24/7 Customer',\n",
       " 'Udaan',\n",
       " 'Ericsson',\n",
       " 'Dell',\n",
       " 'Siemens',\n",
       " 'Cisco',\n",
       " 'State Street Cor...',\n",
       " 'Swiggy',\n",
       " 'The Himalaya Dru...',\n",
       " 'BlackBuck',\n",
       " 'Unacademy',\n",
       " 'Vedantu',\n",
       " 'Myntra',\n",
       " 'BigBasket',\n",
       " 'Meesho',\n",
       " 'Novo Nordisk',\n",
       " 'VMware Software',\n",
       " 'EXL Service',\n",
       " 'TE Connectivity',\n",
       " 'Fidelity Investm...',\n",
       " 'Medi Assist Indi...',\n",
       " 'Lumen Technologi...']"
      ]
     },
     "execution_count": 30,
     "metadata": {},
     "output_type": "execute_result"
    }
   ],
   "source": [
    "name"
   ]
  },
  {
   "cell_type": "code",
   "execution_count": 29,
   "id": "566317fd",
   "metadata": {},
   "outputs": [
    {
     "data": {
      "text/plain": [
       "['3.9',\n",
       " '4.2',\n",
       " '4.3',\n",
       " '3.6',\n",
       " '3.9',\n",
       " '4.2',\n",
       " '4.2',\n",
       " '3.6',\n",
       " '4.2',\n",
       " '4.3',\n",
       " '4.2',\n",
       " '4.2',\n",
       " '4.5',\n",
       " '3.8',\n",
       " '4.1',\n",
       " '4.2',\n",
       " '4.0',\n",
       " '3.4',\n",
       " '3.4',\n",
       " '4.2',\n",
       " '4.1',\n",
       " '3.8',\n",
       " '4.0',\n",
       " '4.4',\n",
       " '3.9',\n",
       " '4.2',\n",
       " '4.3',\n",
       " '3.8',\n",
       " '3.9']"
      ]
     },
     "execution_count": 29,
     "metadata": {},
     "output_type": "execute_result"
    }
   ],
   "source": [
    "rating"
   ]
  },
  {
   "cell_type": "code",
   "execution_count": null,
   "id": "e243248b",
   "metadata": {},
   "outputs": [],
   "source": []
  }
 ],
 "metadata": {
  "kernelspec": {
   "display_name": "Python 3 (ipykernel)",
   "language": "python",
   "name": "python3"
  },
  "language_info": {
   "codemirror_mode": {
    "name": "ipython",
    "version": 3
   },
   "file_extension": ".py",
   "mimetype": "text/x-python",
   "name": "python",
   "nbconvert_exporter": "python",
   "pygments_lexer": "ipython3",
   "version": "3.8.8"
  }
 },
 "nbformat": 4,
 "nbformat_minor": 5
}

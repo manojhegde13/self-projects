{
 "cells": [
  {
   "cell_type": "markdown",
   "id": "9d18ea37",
   "metadata": {
    "papermill": {
     "duration": 0.012859,
     "end_time": "2022-12-14T07:37:47.229426",
     "exception": false,
     "start_time": "2022-12-14T07:37:47.216567",
     "status": "completed"
    },
    "tags": []
   },
   "source": [
    "In this notebook we are implementing  dimensionality reduction techniques like PCA ,t-sne and UMAP on mnsit digit recognizer dataset and see how these dimensionality reduction techniques acts and compare it with each other by plotting 2d and 3d plots \n"
   ]
  },
  {
   "cell_type": "markdown",
   "id": "20ae0c73",
   "metadata": {
    "papermill": {
     "duration": 0.013226,
     "end_time": "2022-12-14T07:37:47.254406",
     "exception": false,
     "start_time": "2022-12-14T07:37:47.241180",
     "status": "completed"
    },
    "tags": []
   },
   "source": []
  },
  {
   "cell_type": "code",
   "execution_count": 1,
   "id": "24a6b286",
   "metadata": {
    "execution": {
     "iopub.execute_input": "2022-12-14T07:37:47.282130Z",
     "iopub.status.busy": "2022-12-14T07:37:47.281088Z",
     "iopub.status.idle": "2022-12-14T07:37:47.297655Z",
     "shell.execute_reply": "2022-12-14T07:37:47.296767Z"
    },
    "papermill": {
     "duration": 0.034671,
     "end_time": "2022-12-14T07:37:47.300690",
     "exception": false,
     "start_time": "2022-12-14T07:37:47.266019",
     "status": "completed"
    },
    "tags": []
   },
   "outputs": [
    {
     "name": "stdout",
     "output_type": "stream",
     "text": [
      "/kaggle/input/digit-recognizer/sample_submission.csv\n",
      "/kaggle/input/digit-recognizer/train.csv\n",
      "/kaggle/input/digit-recognizer/test.csv\n"
     ]
    }
   ],
   "source": [
    "# This Python 3 environment comes with many helpful analytics libraries installed\n",
    "# It is defined by the kaggle/python Docker image: https://github.com/kaggle/docker-python\n",
    "# For example, here's several helpful packages to load\n",
    "import warnings\n",
    "warnings.simplefilter(action='ignore', category=FutureWarning)\n",
    "import numpy as np # linear algebra\n",
    "import pandas as pd # data processing, CSV file I/O (e.g. pd.read_csv)\n",
    "\n",
    "# Input data files are available in the read-only \"../input/\" directory\n",
    "# For example, running this (by clicking run or pressing Shift+Enter) will list all files under the input directory\n",
    "\n",
    "import os\n",
    "for dirname, _, filenames in os.walk('/kaggle/input'):\n",
    "    for filename in filenames:\n",
    "        print(os.path.join(dirname, filename))\n",
    "\n",
    "# You can write up to 20GB to the current directory (/kaggle/working/) that gets preserved as output when you create a version using \"Save & Run All\" \n",
    "# You can also write temporary files to /kaggle/temp/, but they won't be saved outside of the current session"
   ]
  },
  {
   "cell_type": "code",
   "execution_count": 2,
   "id": "e80617c6",
   "metadata": {
    "execution": {
     "iopub.execute_input": "2022-12-14T07:37:47.327226Z",
     "iopub.status.busy": "2022-12-14T07:37:47.326850Z",
     "iopub.status.idle": "2022-12-14T07:37:51.169375Z",
     "shell.execute_reply": "2022-12-14T07:37:51.168184Z"
    },
    "papermill": {
     "duration": 3.859022,
     "end_time": "2022-12-14T07:37:51.172018",
     "exception": false,
     "start_time": "2022-12-14T07:37:47.312996",
     "status": "completed"
    },
    "tags": []
   },
   "outputs": [
    {
     "data": {
      "text/html": [
       "<div>\n",
       "<style scoped>\n",
       "    .dataframe tbody tr th:only-of-type {\n",
       "        vertical-align: middle;\n",
       "    }\n",
       "\n",
       "    .dataframe tbody tr th {\n",
       "        vertical-align: top;\n",
       "    }\n",
       "\n",
       "    .dataframe thead th {\n",
       "        text-align: right;\n",
       "    }\n",
       "</style>\n",
       "<table border=\"1\" class=\"dataframe\">\n",
       "  <thead>\n",
       "    <tr style=\"text-align: right;\">\n",
       "      <th></th>\n",
       "      <th>label</th>\n",
       "      <th>pixel0</th>\n",
       "      <th>pixel1</th>\n",
       "      <th>pixel2</th>\n",
       "      <th>pixel3</th>\n",
       "      <th>pixel4</th>\n",
       "      <th>pixel5</th>\n",
       "      <th>pixel6</th>\n",
       "      <th>pixel7</th>\n",
       "      <th>pixel8</th>\n",
       "      <th>...</th>\n",
       "      <th>pixel774</th>\n",
       "      <th>pixel775</th>\n",
       "      <th>pixel776</th>\n",
       "      <th>pixel777</th>\n",
       "      <th>pixel778</th>\n",
       "      <th>pixel779</th>\n",
       "      <th>pixel780</th>\n",
       "      <th>pixel781</th>\n",
       "      <th>pixel782</th>\n",
       "      <th>pixel783</th>\n",
       "    </tr>\n",
       "  </thead>\n",
       "  <tbody>\n",
       "    <tr>\n",
       "      <th>0</th>\n",
       "      <td>1</td>\n",
       "      <td>0</td>\n",
       "      <td>0</td>\n",
       "      <td>0</td>\n",
       "      <td>0</td>\n",
       "      <td>0</td>\n",
       "      <td>0</td>\n",
       "      <td>0</td>\n",
       "      <td>0</td>\n",
       "      <td>0</td>\n",
       "      <td>...</td>\n",
       "      <td>0</td>\n",
       "      <td>0</td>\n",
       "      <td>0</td>\n",
       "      <td>0</td>\n",
       "      <td>0</td>\n",
       "      <td>0</td>\n",
       "      <td>0</td>\n",
       "      <td>0</td>\n",
       "      <td>0</td>\n",
       "      <td>0</td>\n",
       "    </tr>\n",
       "    <tr>\n",
       "      <th>1</th>\n",
       "      <td>0</td>\n",
       "      <td>0</td>\n",
       "      <td>0</td>\n",
       "      <td>0</td>\n",
       "      <td>0</td>\n",
       "      <td>0</td>\n",
       "      <td>0</td>\n",
       "      <td>0</td>\n",
       "      <td>0</td>\n",
       "      <td>0</td>\n",
       "      <td>...</td>\n",
       "      <td>0</td>\n",
       "      <td>0</td>\n",
       "      <td>0</td>\n",
       "      <td>0</td>\n",
       "      <td>0</td>\n",
       "      <td>0</td>\n",
       "      <td>0</td>\n",
       "      <td>0</td>\n",
       "      <td>0</td>\n",
       "      <td>0</td>\n",
       "    </tr>\n",
       "    <tr>\n",
       "      <th>2</th>\n",
       "      <td>1</td>\n",
       "      <td>0</td>\n",
       "      <td>0</td>\n",
       "      <td>0</td>\n",
       "      <td>0</td>\n",
       "      <td>0</td>\n",
       "      <td>0</td>\n",
       "      <td>0</td>\n",
       "      <td>0</td>\n",
       "      <td>0</td>\n",
       "      <td>...</td>\n",
       "      <td>0</td>\n",
       "      <td>0</td>\n",
       "      <td>0</td>\n",
       "      <td>0</td>\n",
       "      <td>0</td>\n",
       "      <td>0</td>\n",
       "      <td>0</td>\n",
       "      <td>0</td>\n",
       "      <td>0</td>\n",
       "      <td>0</td>\n",
       "    </tr>\n",
       "    <tr>\n",
       "      <th>3</th>\n",
       "      <td>4</td>\n",
       "      <td>0</td>\n",
       "      <td>0</td>\n",
       "      <td>0</td>\n",
       "      <td>0</td>\n",
       "      <td>0</td>\n",
       "      <td>0</td>\n",
       "      <td>0</td>\n",
       "      <td>0</td>\n",
       "      <td>0</td>\n",
       "      <td>...</td>\n",
       "      <td>0</td>\n",
       "      <td>0</td>\n",
       "      <td>0</td>\n",
       "      <td>0</td>\n",
       "      <td>0</td>\n",
       "      <td>0</td>\n",
       "      <td>0</td>\n",
       "      <td>0</td>\n",
       "      <td>0</td>\n",
       "      <td>0</td>\n",
       "    </tr>\n",
       "    <tr>\n",
       "      <th>4</th>\n",
       "      <td>0</td>\n",
       "      <td>0</td>\n",
       "      <td>0</td>\n",
       "      <td>0</td>\n",
       "      <td>0</td>\n",
       "      <td>0</td>\n",
       "      <td>0</td>\n",
       "      <td>0</td>\n",
       "      <td>0</td>\n",
       "      <td>0</td>\n",
       "      <td>...</td>\n",
       "      <td>0</td>\n",
       "      <td>0</td>\n",
       "      <td>0</td>\n",
       "      <td>0</td>\n",
       "      <td>0</td>\n",
       "      <td>0</td>\n",
       "      <td>0</td>\n",
       "      <td>0</td>\n",
       "      <td>0</td>\n",
       "      <td>0</td>\n",
       "    </tr>\n",
       "    <tr>\n",
       "      <th>5</th>\n",
       "      <td>0</td>\n",
       "      <td>0</td>\n",
       "      <td>0</td>\n",
       "      <td>0</td>\n",
       "      <td>0</td>\n",
       "      <td>0</td>\n",
       "      <td>0</td>\n",
       "      <td>0</td>\n",
       "      <td>0</td>\n",
       "      <td>0</td>\n",
       "      <td>...</td>\n",
       "      <td>0</td>\n",
       "      <td>0</td>\n",
       "      <td>0</td>\n",
       "      <td>0</td>\n",
       "      <td>0</td>\n",
       "      <td>0</td>\n",
       "      <td>0</td>\n",
       "      <td>0</td>\n",
       "      <td>0</td>\n",
       "      <td>0</td>\n",
       "    </tr>\n",
       "    <tr>\n",
       "      <th>6</th>\n",
       "      <td>7</td>\n",
       "      <td>0</td>\n",
       "      <td>0</td>\n",
       "      <td>0</td>\n",
       "      <td>0</td>\n",
       "      <td>0</td>\n",
       "      <td>0</td>\n",
       "      <td>0</td>\n",
       "      <td>0</td>\n",
       "      <td>0</td>\n",
       "      <td>...</td>\n",
       "      <td>0</td>\n",
       "      <td>0</td>\n",
       "      <td>0</td>\n",
       "      <td>0</td>\n",
       "      <td>0</td>\n",
       "      <td>0</td>\n",
       "      <td>0</td>\n",
       "      <td>0</td>\n",
       "      <td>0</td>\n",
       "      <td>0</td>\n",
       "    </tr>\n",
       "    <tr>\n",
       "      <th>7</th>\n",
       "      <td>3</td>\n",
       "      <td>0</td>\n",
       "      <td>0</td>\n",
       "      <td>0</td>\n",
       "      <td>0</td>\n",
       "      <td>0</td>\n",
       "      <td>0</td>\n",
       "      <td>0</td>\n",
       "      <td>0</td>\n",
       "      <td>0</td>\n",
       "      <td>...</td>\n",
       "      <td>0</td>\n",
       "      <td>0</td>\n",
       "      <td>0</td>\n",
       "      <td>0</td>\n",
       "      <td>0</td>\n",
       "      <td>0</td>\n",
       "      <td>0</td>\n",
       "      <td>0</td>\n",
       "      <td>0</td>\n",
       "      <td>0</td>\n",
       "    </tr>\n",
       "    <tr>\n",
       "      <th>8</th>\n",
       "      <td>5</td>\n",
       "      <td>0</td>\n",
       "      <td>0</td>\n",
       "      <td>0</td>\n",
       "      <td>0</td>\n",
       "      <td>0</td>\n",
       "      <td>0</td>\n",
       "      <td>0</td>\n",
       "      <td>0</td>\n",
       "      <td>0</td>\n",
       "      <td>...</td>\n",
       "      <td>0</td>\n",
       "      <td>0</td>\n",
       "      <td>0</td>\n",
       "      <td>0</td>\n",
       "      <td>0</td>\n",
       "      <td>0</td>\n",
       "      <td>0</td>\n",
       "      <td>0</td>\n",
       "      <td>0</td>\n",
       "      <td>0</td>\n",
       "    </tr>\n",
       "    <tr>\n",
       "      <th>9</th>\n",
       "      <td>3</td>\n",
       "      <td>0</td>\n",
       "      <td>0</td>\n",
       "      <td>0</td>\n",
       "      <td>0</td>\n",
       "      <td>0</td>\n",
       "      <td>0</td>\n",
       "      <td>0</td>\n",
       "      <td>0</td>\n",
       "      <td>0</td>\n",
       "      <td>...</td>\n",
       "      <td>0</td>\n",
       "      <td>0</td>\n",
       "      <td>0</td>\n",
       "      <td>0</td>\n",
       "      <td>0</td>\n",
       "      <td>0</td>\n",
       "      <td>0</td>\n",
       "      <td>0</td>\n",
       "      <td>0</td>\n",
       "      <td>0</td>\n",
       "    </tr>\n",
       "  </tbody>\n",
       "</table>\n",
       "<p>10 rows × 785 columns</p>\n",
       "</div>"
      ],
      "text/plain": [
       "   label  pixel0  pixel1  pixel2  pixel3  pixel4  pixel5  pixel6  pixel7  \\\n",
       "0      1       0       0       0       0       0       0       0       0   \n",
       "1      0       0       0       0       0       0       0       0       0   \n",
       "2      1       0       0       0       0       0       0       0       0   \n",
       "3      4       0       0       0       0       0       0       0       0   \n",
       "4      0       0       0       0       0       0       0       0       0   \n",
       "5      0       0       0       0       0       0       0       0       0   \n",
       "6      7       0       0       0       0       0       0       0       0   \n",
       "7      3       0       0       0       0       0       0       0       0   \n",
       "8      5       0       0       0       0       0       0       0       0   \n",
       "9      3       0       0       0       0       0       0       0       0   \n",
       "\n",
       "   pixel8  ...  pixel774  pixel775  pixel776  pixel777  pixel778  pixel779  \\\n",
       "0       0  ...         0         0         0         0         0         0   \n",
       "1       0  ...         0         0         0         0         0         0   \n",
       "2       0  ...         0         0         0         0         0         0   \n",
       "3       0  ...         0         0         0         0         0         0   \n",
       "4       0  ...         0         0         0         0         0         0   \n",
       "5       0  ...         0         0         0         0         0         0   \n",
       "6       0  ...         0         0         0         0         0         0   \n",
       "7       0  ...         0         0         0         0         0         0   \n",
       "8       0  ...         0         0         0         0         0         0   \n",
       "9       0  ...         0         0         0         0         0         0   \n",
       "\n",
       "   pixel780  pixel781  pixel782  pixel783  \n",
       "0         0         0         0         0  \n",
       "1         0         0         0         0  \n",
       "2         0         0         0         0  \n",
       "3         0         0         0         0  \n",
       "4         0         0         0         0  \n",
       "5         0         0         0         0  \n",
       "6         0         0         0         0  \n",
       "7         0         0         0         0  \n",
       "8         0         0         0         0  \n",
       "9         0         0         0         0  \n",
       "\n",
       "[10 rows x 785 columns]"
      ]
     },
     "execution_count": 2,
     "metadata": {},
     "output_type": "execute_result"
    }
   ],
   "source": [
    "import pandas as pd\n",
    "df= pd.read_csv(\"//kaggle/input/digit-recognizer/train.csv\")\n",
    "df.head(10)"
   ]
  },
  {
   "cell_type": "code",
   "execution_count": 3,
   "id": "b9d5a113",
   "metadata": {
    "execution": {
     "iopub.execute_input": "2022-12-14T07:37:51.198491Z",
     "iopub.status.busy": "2022-12-14T07:37:51.198081Z",
     "iopub.status.idle": "2022-12-14T07:37:51.328509Z",
     "shell.execute_reply": "2022-12-14T07:37:51.327160Z"
    },
    "papermill": {
     "duration": 0.146248,
     "end_time": "2022-12-14T07:37:51.331027",
     "exception": false,
     "start_time": "2022-12-14T07:37:51.184779",
     "status": "completed"
    },
    "tags": []
   },
   "outputs": [],
   "source": [
    "label = df['label']\n",
    "\n",
    "data = df.drop('label',axis =1)\n"
   ]
  },
  {
   "cell_type": "code",
   "execution_count": 4,
   "id": "09ec3523",
   "metadata": {
    "execution": {
     "iopub.execute_input": "2022-12-14T07:37:51.357850Z",
     "iopub.status.busy": "2022-12-14T07:37:51.357150Z",
     "iopub.status.idle": "2022-12-14T07:37:53.146059Z",
     "shell.execute_reply": "2022-12-14T07:37:53.144907Z"
    },
    "papermill": {
     "duration": 1.805794,
     "end_time": "2022-12-14T07:37:53.148694",
     "exception": false,
     "start_time": "2022-12-14T07:37:51.342900",
     "status": "completed"
    },
    "tags": []
   },
   "outputs": [
    {
     "name": "stdout",
     "output_type": "stream",
     "text": [
      "<class 'numpy.ndarray'>\n"
     ]
    },
    {
     "data": {
      "text/plain": [
       "(42000, 784)"
      ]
     },
     "execution_count": 4,
     "metadata": {},
     "output_type": "execute_result"
    }
   ],
   "source": [
    "from sklearn.preprocessing import StandardScaler\n",
    "\n",
    "standard_data = StandardScaler().fit_transform(data)\n",
    "\n",
    "print(type(standard_data))\n",
    "standard_data.shape"
   ]
  },
  {
   "cell_type": "code",
   "execution_count": 5,
   "id": "efbeb70b",
   "metadata": {
    "execution": {
     "iopub.execute_input": "2022-12-14T07:37:53.175432Z",
     "iopub.status.busy": "2022-12-14T07:37:53.174995Z",
     "iopub.status.idle": "2022-12-14T07:37:53.696040Z",
     "shell.execute_reply": "2022-12-14T07:37:53.694457Z"
    },
    "papermill": {
     "duration": 0.540238,
     "end_time": "2022-12-14T07:37:53.701170",
     "exception": false,
     "start_time": "2022-12-14T07:37:53.160932",
     "status": "completed"
    },
    "tags": []
   },
   "outputs": [
    {
     "data": {
      "text/plain": [
       "array([[0., 0., 0., ..., 0., 0., 0.],\n",
       "       [0., 0., 0., ..., 0., 0., 0.],\n",
       "       [0., 0., 0., ..., 0., 0., 0.],\n",
       "       ...,\n",
       "       [0., 0., 0., ..., 0., 0., 0.],\n",
       "       [0., 0., 0., ..., 0., 0., 0.],\n",
       "       [0., 0., 0., ..., 0., 0., 0.]])"
      ]
     },
     "execution_count": 5,
     "metadata": {},
     "output_type": "execute_result"
    }
   ],
   "source": [
    "cov_mat = np.matmul(standard_data.T ,standard_data)\n",
    "cov_mat"
   ]
  },
  {
   "cell_type": "code",
   "execution_count": 6,
   "id": "004c75e1",
   "metadata": {
    "execution": {
     "iopub.execute_input": "2022-12-14T07:37:53.770869Z",
     "iopub.status.busy": "2022-12-14T07:37:53.769913Z",
     "iopub.status.idle": "2022-12-14T07:37:53.942303Z",
     "shell.execute_reply": "2022-12-14T07:37:53.941107Z"
    },
    "papermill": {
     "duration": 0.209431,
     "end_time": "2022-12-14T07:37:53.945154",
     "exception": false,
     "start_time": "2022-12-14T07:37:53.735723",
     "status": "completed"
    },
    "tags": []
   },
   "outputs": [],
   "source": [
    "from sklearn import decomposition\n",
    "pca = decomposition.PCA(n_components=2)\n",
    "\n",
    "\n"
   ]
  },
  {
   "cell_type": "code",
   "execution_count": 7,
   "id": "541383b9",
   "metadata": {
    "execution": {
     "iopub.execute_input": "2022-12-14T07:37:53.972620Z",
     "iopub.status.busy": "2022-12-14T07:37:53.971534Z",
     "iopub.status.idle": "2022-12-14T07:37:57.172900Z",
     "shell.execute_reply": "2022-12-14T07:37:57.171414Z"
    },
    "papermill": {
     "duration": 3.218046,
     "end_time": "2022-12-14T07:37:57.175796",
     "exception": false,
     "start_time": "2022-12-14T07:37:53.957750",
     "status": "completed"
    },
    "tags": []
   },
   "outputs": [
    {
     "data": {
      "text/plain": [
       "(42000, 2)"
      ]
     },
     "execution_count": 7,
     "metadata": {},
     "output_type": "execute_result"
    }
   ],
   "source": [
    "pca_d = pca.fit_transform(standard_data)\n",
    "\n",
    "pca_d.shape"
   ]
  },
  {
   "cell_type": "code",
   "execution_count": 8,
   "id": "15a4b978",
   "metadata": {
    "execution": {
     "iopub.execute_input": "2022-12-14T07:37:57.202396Z",
     "iopub.status.busy": "2022-12-14T07:37:57.201935Z",
     "iopub.status.idle": "2022-12-14T07:37:57.210285Z",
     "shell.execute_reply": "2022-12-14T07:37:57.209127Z"
    },
    "papermill": {
     "duration": 0.024421,
     "end_time": "2022-12-14T07:37:57.212672",
     "exception": false,
     "start_time": "2022-12-14T07:37:57.188251",
     "status": "completed"
    },
    "tags": []
   },
   "outputs": [
    {
     "data": {
      "text/plain": [
       "(42000, 3)"
      ]
     },
     "execution_count": 8,
     "metadata": {},
     "output_type": "execute_result"
    }
   ],
   "source": [
    "pca_d = np.vstack((pca_d.T,label)).T\n",
    "pca_d.shape"
   ]
  },
  {
   "cell_type": "code",
   "execution_count": 9,
   "id": "fe5e4dfc",
   "metadata": {
    "execution": {
     "iopub.execute_input": "2022-12-14T07:37:57.239921Z",
     "iopub.status.busy": "2022-12-14T07:37:57.239464Z",
     "iopub.status.idle": "2022-12-14T07:37:57.346200Z",
     "shell.execute_reply": "2022-12-14T07:37:57.344295Z"
    },
    "papermill": {
     "duration": 0.122724,
     "end_time": "2022-12-14T07:37:57.348358",
     "exception": true,
     "start_time": "2022-12-14T07:37:57.225634",
     "status": "failed"
    },
    "tags": []
   },
   "outputs": [
    {
     "ename": "NameError",
     "evalue": "name 'pca_df' is not defined",
     "output_type": "error",
     "traceback": [
      "\u001b[0;31m---------------------------------------------------------------------------\u001b[0m",
      "\u001b[0;31mNameError\u001b[0m                                 Traceback (most recent call last)",
      "\u001b[0;32m/tmp/ipykernel_19/2753937323.py\u001b[0m in \u001b[0;36m<module>\u001b[0;34m\u001b[0m\n\u001b[0;32m----> 1\u001b[0;31m \u001b[0mpca_df\u001b[0m\u001b[0;34m\u001b[0m\u001b[0;34m\u001b[0m\u001b[0m\n\u001b[0m",
      "\u001b[0;31mNameError\u001b[0m: name 'pca_df' is not defined"
     ]
    }
   ],
   "source": [
    "pca_df"
   ]
  },
  {
   "cell_type": "code",
   "execution_count": null,
   "id": "1fe18c3f",
   "metadata": {
    "execution": {
     "iopub.execute_input": "2022-12-14T06:45:50.941007Z",
     "iopub.status.busy": "2022-12-14T06:45:50.940554Z",
     "iopub.status.idle": "2022-12-14T06:45:51.922430Z",
     "shell.execute_reply": "2022-12-14T06:45:51.921475Z",
     "shell.execute_reply.started": "2022-12-14T06:45:50.940969Z"
    },
    "papermill": {
     "duration": null,
     "end_time": null,
     "exception": null,
     "start_time": null,
     "status": "pending"
    },
    "tags": []
   },
   "outputs": [],
   "source": [
    "import seaborn as sns\n",
    "import matplotlib.pyplot as plt\n",
    "pca_df = pd.DataFrame(data=pca_d, columns=(\"1st_principal\", \"2nd_principal\", \"label\"))\n",
    "sns.FacetGrid(pca_df, hue=\"label\", size=6).map(plt.scatter, '1st_principal', '2nd_principal').add_legend()\n",
    "plt.show()"
   ]
  },
  {
   "cell_type": "markdown",
   "id": "722f4ae9",
   "metadata": {
    "papermill": {
     "duration": null,
     "end_time": null,
     "exception": null,
     "start_time": null,
     "status": "pending"
    },
    "tags": []
   },
   "source": [
    "PCA works well on large dataset verywell , but no clear seperation of data"
   ]
  },
  {
   "cell_type": "markdown",
   "id": "e3fccf18",
   "metadata": {
    "papermill": {
     "duration": null,
     "end_time": null,
     "exception": null,
     "start_time": null,
     "status": "pending"
    },
    "tags": []
   },
   "source": [
    "# **Visualizing PCA in 3d plot**"
   ]
  },
  {
   "cell_type": "code",
   "execution_count": null,
   "id": "47c6a846",
   "metadata": {
    "execution": {
     "iopub.execute_input": "2022-12-14T04:58:05.142111Z",
     "iopub.status.busy": "2022-12-14T04:58:05.141600Z",
     "iopub.status.idle": "2022-12-14T04:58:05.148416Z",
     "shell.execute_reply": "2022-12-14T04:58:05.146805Z",
     "shell.execute_reply.started": "2022-12-14T04:58:05.142072Z"
    },
    "papermill": {
     "duration": null,
     "end_time": null,
     "exception": null,
     "start_time": null,
     "status": "pending"
    },
    "tags": []
   },
   "outputs": [],
   "source": [
    "pca2 = decomposition.PCA(n_components=3)"
   ]
  },
  {
   "cell_type": "code",
   "execution_count": null,
   "id": "828c7d8a",
   "metadata": {
    "execution": {
     "iopub.execute_input": "2022-12-14T04:58:06.556941Z",
     "iopub.status.busy": "2022-12-14T04:58:06.556436Z",
     "iopub.status.idle": "2022-12-14T04:58:09.575931Z",
     "shell.execute_reply": "2022-12-14T04:58:09.574701Z",
     "shell.execute_reply.started": "2022-12-14T04:58:06.556902Z"
    },
    "papermill": {
     "duration": null,
     "end_time": null,
     "exception": null,
     "start_time": null,
     "status": "pending"
    },
    "tags": []
   },
   "outputs": [],
   "source": [
    "pca_3d = pca2.fit_transform(standard_data)\n",
    "\n",
    "pca_3d"
   ]
  },
  {
   "cell_type": "code",
   "execution_count": null,
   "id": "0ffc9ce2",
   "metadata": {
    "execution": {
     "iopub.execute_input": "2022-12-14T04:58:09.581197Z",
     "iopub.status.busy": "2022-12-14T04:58:09.580654Z",
     "iopub.status.idle": "2022-12-14T04:58:09.589515Z",
     "shell.execute_reply": "2022-12-14T04:58:09.588097Z",
     "shell.execute_reply.started": "2022-12-14T04:58:09.581152Z"
    },
    "papermill": {
     "duration": null,
     "end_time": null,
     "exception": null,
     "start_time": null,
     "status": "pending"
    },
    "tags": []
   },
   "outputs": [],
   "source": [
    "pca_3d = np.vstack((pca_3d.T,label)).T\n",
    "pca_3d.shape"
   ]
  },
  {
   "cell_type": "code",
   "execution_count": null,
   "id": "41fafa52",
   "metadata": {
    "execution": {
     "iopub.execute_input": "2022-12-14T04:58:09.591373Z",
     "iopub.status.busy": "2022-12-14T04:58:09.590971Z",
     "iopub.status.idle": "2022-12-14T04:58:09.630549Z",
     "shell.execute_reply": "2022-12-14T04:58:09.629709Z",
     "shell.execute_reply.started": "2022-12-14T04:58:09.591331Z"
    },
    "papermill": {
     "duration": null,
     "end_time": null,
     "exception": null,
     "start_time": null,
     "status": "pending"
    },
    "tags": []
   },
   "outputs": [],
   "source": [
    "pca_3df = pd.DataFrame(data=pca_3d, columns=(\"1st_principal\", \"2nd_principal\",\"3rd_principal\", \"label\"))\n",
    "pca_3df"
   ]
  },
  {
   "cell_type": "code",
   "execution_count": null,
   "id": "be8ff1e3",
   "metadata": {
    "execution": {
     "iopub.execute_input": "2022-12-14T04:58:09.633458Z",
     "iopub.status.busy": "2022-12-14T04:58:09.632338Z",
     "iopub.status.idle": "2022-12-14T04:58:12.096617Z",
     "shell.execute_reply": "2022-12-14T04:58:12.094844Z",
     "shell.execute_reply.started": "2022-12-14T04:58:09.633421Z"
    },
    "papermill": {
     "duration": null,
     "end_time": null,
     "exception": null,
     "start_time": null,
     "status": "pending"
    },
    "tags": []
   },
   "outputs": [],
   "source": [
    "import plotly.express as px\n",
    "\n",
    "fig = px.scatter_3d(pca_3df, x='1st_principal', y='2nd_principal', z='3rd_principal',\n",
    "              color='label')\n",
    "fig.show()\n"
   ]
  },
  {
   "cell_type": "markdown",
   "id": "91712c5b",
   "metadata": {
    "papermill": {
     "duration": null,
     "end_time": null,
     "exception": null,
     "start_time": null,
     "status": "pending"
    },
    "tags": []
   },
   "source": [
    "In 3d we can visualize clearly but here data label not fully seperated "
   ]
  },
  {
   "cell_type": "code",
   "execution_count": null,
   "id": "9c66d61b",
   "metadata": {
    "execution": {
     "iopub.execute_input": "2022-12-14T04:58:12.099174Z",
     "iopub.status.busy": "2022-12-14T04:58:12.098772Z",
     "iopub.status.idle": "2022-12-14T04:58:12.106632Z",
     "shell.execute_reply": "2022-12-14T04:58:12.105387Z",
     "shell.execute_reply.started": "2022-12-14T04:58:12.099136Z"
    },
    "papermill": {
     "duration": null,
     "end_time": null,
     "exception": null,
     "start_time": null,
     "status": "pending"
    },
    "tags": []
   },
   "outputs": [],
   "source": [
    "standard_data.shape"
   ]
  },
  {
   "cell_type": "markdown",
   "id": "c366798d",
   "metadata": {
    "papermill": {
     "duration": null,
     "end_time": null,
     "exception": null,
     "start_time": null,
     "status": "pending"
    },
    "tags": []
   },
   "source": [
    "# **t-SNE**"
   ]
  },
  {
   "cell_type": "code",
   "execution_count": null,
   "id": "2d1285cc",
   "metadata": {
    "execution": {
     "iopub.execute_input": "2022-12-14T04:58:33.022607Z",
     "iopub.status.busy": "2022-12-14T04:58:33.022189Z",
     "iopub.status.idle": "2022-12-14T04:58:33.111928Z",
     "shell.execute_reply": "2022-12-14T04:58:33.110664Z",
     "shell.execute_reply.started": "2022-12-14T04:58:33.022575Z"
    },
    "papermill": {
     "duration": null,
     "end_time": null,
     "exception": null,
     "start_time": null,
     "status": "pending"
    },
    "tags": []
   },
   "outputs": [],
   "source": [
    "from sklearn.manifold import TSNE\n",
    "\n",
    "standard_data2000 = standard_data[0:2000,:] \n",
    "print(standard_data2000.shape)\n",
    "label2000 = label[0:2000]\n",
    "\n"
   ]
  },
  {
   "cell_type": "code",
   "execution_count": null,
   "id": "a5bdbf0d",
   "metadata": {
    "execution": {
     "iopub.execute_input": "2022-12-14T04:58:33.523025Z",
     "iopub.status.busy": "2022-12-14T04:58:33.521673Z",
     "iopub.status.idle": "2022-12-14T04:58:33.535566Z",
     "shell.execute_reply": "2022-12-14T04:58:33.533803Z",
     "shell.execute_reply.started": "2022-12-14T04:58:33.522956Z"
    },
    "papermill": {
     "duration": null,
     "end_time": null,
     "exception": null,
     "start_time": null,
     "status": "pending"
    },
    "tags": []
   },
   "outputs": [],
   "source": [
    "mod = TSNE(n_components=2 ,random_state =0, perplexity=50,  n_iter=5000)\n",
    "mod"
   ]
  },
  {
   "cell_type": "code",
   "execution_count": null,
   "id": "34d32f4d",
   "metadata": {
    "execution": {
     "iopub.execute_input": "2022-12-14T04:58:33.539364Z",
     "iopub.status.busy": "2022-12-14T04:58:33.538742Z",
     "iopub.status.idle": "2022-12-14T04:59:29.888154Z",
     "shell.execute_reply": "2022-12-14T04:59:29.886983Z",
     "shell.execute_reply.started": "2022-12-14T04:58:33.539306Z"
    },
    "papermill": {
     "duration": null,
     "end_time": null,
     "exception": null,
     "start_time": null,
     "status": "pending"
    },
    "tags": []
   },
   "outputs": [],
   "source": [
    "tsne = mod.fit_transform(standard_data2000)"
   ]
  },
  {
   "cell_type": "code",
   "execution_count": null,
   "id": "670bcfbb",
   "metadata": {
    "execution": {
     "iopub.execute_input": "2022-12-14T04:59:29.891642Z",
     "iopub.status.busy": "2022-12-14T04:59:29.890714Z",
     "iopub.status.idle": "2022-12-14T04:59:29.899816Z",
     "shell.execute_reply": "2022-12-14T04:59:29.898596Z",
     "shell.execute_reply.started": "2022-12-14T04:59:29.891587Z"
    },
    "papermill": {
     "duration": null,
     "end_time": null,
     "exception": null,
     "start_time": null,
     "status": "pending"
    },
    "tags": []
   },
   "outputs": [],
   "source": [
    "tsne.shape"
   ]
  },
  {
   "cell_type": "code",
   "execution_count": null,
   "id": "6fdbed12",
   "metadata": {
    "execution": {
     "iopub.execute_input": "2022-12-14T04:59:29.902419Z",
     "iopub.status.busy": "2022-12-14T04:59:29.901550Z",
     "iopub.status.idle": "2022-12-14T04:59:29.916212Z",
     "shell.execute_reply": "2022-12-14T04:59:29.915065Z",
     "shell.execute_reply.started": "2022-12-14T04:59:29.902371Z"
    },
    "papermill": {
     "duration": null,
     "end_time": null,
     "exception": null,
     "start_time": null,
     "status": "pending"
    },
    "tags": []
   },
   "outputs": [],
   "source": [
    "tsne1 = np.vstack((tsne.T ,label2000)).T\n",
    "tsne1.shape"
   ]
  },
  {
   "cell_type": "code",
   "execution_count": null,
   "id": "0c5f338e",
   "metadata": {
    "execution": {
     "iopub.execute_input": "2022-12-14T04:59:29.921196Z",
     "iopub.status.busy": "2022-12-14T04:59:29.920401Z",
     "iopub.status.idle": "2022-12-14T04:59:29.944258Z",
     "shell.execute_reply": "2022-12-14T04:59:29.943115Z",
     "shell.execute_reply.started": "2022-12-14T04:59:29.921153Z"
    },
    "papermill": {
     "duration": null,
     "end_time": null,
     "exception": null,
     "start_time": null,
     "status": "pending"
    },
    "tags": []
   },
   "outputs": [],
   "source": [
    "tsne_df = pd.DataFrame(data=tsne1,columns=('1st_comp','2nd_comp','label'))\n",
    "tsne_df"
   ]
  },
  {
   "cell_type": "code",
   "execution_count": null,
   "id": "85693b1b",
   "metadata": {
    "execution": {
     "iopub.execute_input": "2022-12-14T04:59:29.945972Z",
     "iopub.status.busy": "2022-12-14T04:59:29.945551Z",
     "iopub.status.idle": "2022-12-14T04:59:30.626637Z",
     "shell.execute_reply": "2022-12-14T04:59:30.625283Z",
     "shell.execute_reply.started": "2022-12-14T04:59:29.945914Z"
    },
    "papermill": {
     "duration": null,
     "end_time": null,
     "exception": null,
     "start_time": null,
     "status": "pending"
    },
    "tags": []
   },
   "outputs": [],
   "source": [
    "sns.FacetGrid(tsne_df, hue=\"label\", size=6).map(plt.scatter, '1st_comp', '2nd_comp').add_legend()\n",
    "plt.show()"
   ]
  },
  {
   "cell_type": "markdown",
   "id": "ec0866c2",
   "metadata": {
    "papermill": {
     "duration": null,
     "end_time": null,
     "exception": null,
     "start_time": null,
     "status": "pending"
    },
    "tags": []
   },
   "source": [
    "Always in tsne try different value perplexity and iteration to get better results\n",
    "\n",
    "From this plot above we can mostly differntiate different numbers "
   ]
  },
  {
   "cell_type": "markdown",
   "id": "4bf32de6",
   "metadata": {
    "papermill": {
     "duration": null,
     "end_time": null,
     "exception": null,
     "start_time": null,
     "status": "pending"
    },
    "tags": []
   },
   "source": [
    "# **3 dimension plot for tsne**"
   ]
  },
  {
   "cell_type": "code",
   "execution_count": null,
   "id": "7b77432e",
   "metadata": {
    "execution": {
     "iopub.execute_input": "2022-12-14T04:59:30.629342Z",
     "iopub.status.busy": "2022-12-14T04:59:30.628702Z",
     "iopub.status.idle": "2022-12-14T04:59:30.636977Z",
     "shell.execute_reply": "2022-12-14T04:59:30.635864Z",
     "shell.execute_reply.started": "2022-12-14T04:59:30.629302Z"
    },
    "papermill": {
     "duration": null,
     "end_time": null,
     "exception": null,
     "start_time": null,
     "status": "pending"
    },
    "tags": []
   },
   "outputs": [],
   "source": [
    "mod3 = TSNE(n_components=3 ,random_state =0)\n",
    "mod3"
   ]
  },
  {
   "cell_type": "code",
   "execution_count": null,
   "id": "1d70a3b1",
   "metadata": {
    "execution": {
     "iopub.execute_input": "2022-12-14T04:59:30.639438Z",
     "iopub.status.busy": "2022-12-14T04:59:30.638303Z",
     "iopub.status.idle": "2022-12-14T04:59:58.396618Z",
     "shell.execute_reply": "2022-12-14T04:59:58.395600Z",
     "shell.execute_reply.started": "2022-12-14T04:59:30.639396Z"
    },
    "papermill": {
     "duration": null,
     "end_time": null,
     "exception": null,
     "start_time": null,
     "status": "pending"
    },
    "tags": []
   },
   "outputs": [],
   "source": [
    "tsne3 = mod3.fit_transform(standard_data2000)"
   ]
  },
  {
   "cell_type": "code",
   "execution_count": null,
   "id": "bbd61cf1",
   "metadata": {
    "execution": {
     "iopub.execute_input": "2022-12-14T04:59:58.399231Z",
     "iopub.status.busy": "2022-12-14T04:59:58.398342Z",
     "iopub.status.idle": "2022-12-14T04:59:58.408621Z",
     "shell.execute_reply": "2022-12-14T04:59:58.407379Z",
     "shell.execute_reply.started": "2022-12-14T04:59:58.399185Z"
    },
    "papermill": {
     "duration": null,
     "end_time": null,
     "exception": null,
     "start_time": null,
     "status": "pending"
    },
    "tags": []
   },
   "outputs": [],
   "source": [
    "tsne3 = np.vstack((tsne3.T ,label2000)).T\n",
    "tsne3.shape"
   ]
  },
  {
   "cell_type": "code",
   "execution_count": null,
   "id": "b4c88a38",
   "metadata": {
    "execution": {
     "iopub.execute_input": "2022-12-14T04:59:58.410816Z",
     "iopub.status.busy": "2022-12-14T04:59:58.410145Z",
     "iopub.status.idle": "2022-12-14T04:59:58.432247Z",
     "shell.execute_reply": "2022-12-14T04:59:58.430958Z",
     "shell.execute_reply.started": "2022-12-14T04:59:58.410770Z"
    },
    "papermill": {
     "duration": null,
     "end_time": null,
     "exception": null,
     "start_time": null,
     "status": "pending"
    },
    "tags": []
   },
   "outputs": [],
   "source": [
    "tsne3_df = pd.DataFrame(data=tsne3,columns=('1st_comp','2nd_comp','3rd_comp','label'))\n",
    "tsne3_df"
   ]
  },
  {
   "cell_type": "code",
   "execution_count": null,
   "id": "df4d594b",
   "metadata": {
    "execution": {
     "iopub.execute_input": "2022-12-14T04:59:58.436435Z",
     "iopub.status.busy": "2022-12-14T04:59:58.435748Z",
     "iopub.status.idle": "2022-12-14T04:59:58.503881Z",
     "shell.execute_reply": "2022-12-14T04:59:58.502718Z",
     "shell.execute_reply.started": "2022-12-14T04:59:58.436387Z"
    },
    "papermill": {
     "duration": null,
     "end_time": null,
     "exception": null,
     "start_time": null,
     "status": "pending"
    },
    "tags": []
   },
   "outputs": [],
   "source": [
    "import plotly.express as px\n",
    "fig = px.scatter_3d(tsne3_df, x='1st_comp', y='2nd_comp', z='3rd_comp',\n",
    "              color='label')\n",
    "fig.show()\n"
   ]
  },
  {
   "cell_type": "markdown",
   "id": "25d5f6ee",
   "metadata": {
    "papermill": {
     "duration": null,
     "end_time": null,
     "exception": null,
     "start_time": null,
     "status": "pending"
    },
    "tags": []
   },
   "source": [
    "tsne is non-linear so it can capture the structure of trickier manifolds"
   ]
  },
  {
   "cell_type": "markdown",
   "id": "44809a39",
   "metadata": {
    "papermill": {
     "duration": null,
     "end_time": null,
     "exception": null,
     "start_time": null,
     "status": "pending"
    },
    "tags": []
   },
   "source": [
    "# **UMAP**"
   ]
  },
  {
   "cell_type": "code",
   "execution_count": null,
   "id": "80400861",
   "metadata": {
    "execution": {
     "iopub.execute_input": "2022-12-14T05:55:57.347034Z",
     "iopub.status.busy": "2022-12-14T05:55:57.346535Z",
     "iopub.status.idle": "2022-12-14T05:55:57.352967Z",
     "shell.execute_reply": "2022-12-14T05:55:57.351234Z",
     "shell.execute_reply.started": "2022-12-14T05:55:57.346996Z"
    },
    "papermill": {
     "duration": null,
     "end_time": null,
     "exception": null,
     "start_time": null,
     "status": "pending"
    },
    "tags": []
   },
   "outputs": [],
   "source": [
    "from umap import UMAP"
   ]
  },
  {
   "cell_type": "code",
   "execution_count": null,
   "id": "1cf83196",
   "metadata": {
    "execution": {
     "iopub.execute_input": "2022-12-14T06:32:15.921149Z",
     "iopub.status.busy": "2022-12-14T06:32:15.920615Z",
     "iopub.status.idle": "2022-12-14T06:32:16.110000Z",
     "shell.execute_reply": "2022-12-14T06:32:16.108924Z",
     "shell.execute_reply.started": "2022-12-14T06:32:15.921112Z"
    },
    "papermill": {
     "duration": null,
     "end_time": null,
     "exception": null,
     "start_time": null,
     "status": "pending"
    },
    "tags": []
   },
   "outputs": [],
   "source": [
    "u_map = UMAP(n_neighbors=50, n_components=2, min_dist=0.1)"
   ]
  },
  {
   "cell_type": "code",
   "execution_count": null,
   "id": "6d96ee18",
   "metadata": {
    "execution": {
     "iopub.execute_input": "2022-12-14T06:48:55.066397Z",
     "iopub.status.busy": "2022-12-14T06:48:55.065806Z",
     "iopub.status.idle": "2022-12-14T06:49:04.141939Z",
     "shell.execute_reply": "2022-12-14T06:49:04.140660Z",
     "shell.execute_reply.started": "2022-12-14T06:48:55.066356Z"
    },
    "papermill": {
     "duration": null,
     "end_time": null,
     "exception": null,
     "start_time": null,
     "status": "pending"
    },
    "tags": []
   },
   "outputs": [],
   "source": [
    "u_m = u_map.fit_transform(standard_data2000)"
   ]
  },
  {
   "cell_type": "code",
   "execution_count": null,
   "id": "614db9d5",
   "metadata": {
    "execution": {
     "iopub.execute_input": "2022-12-14T06:49:04.144799Z",
     "iopub.status.busy": "2022-12-14T06:49:04.144271Z",
     "iopub.status.idle": "2022-12-14T06:49:04.153858Z",
     "shell.execute_reply": "2022-12-14T06:49:04.152225Z",
     "shell.execute_reply.started": "2022-12-14T06:49:04.144741Z"
    },
    "papermill": {
     "duration": null,
     "end_time": null,
     "exception": null,
     "start_time": null,
     "status": "pending"
    },
    "tags": []
   },
   "outputs": [],
   "source": [
    "u_m.shape"
   ]
  },
  {
   "cell_type": "code",
   "execution_count": null,
   "id": "7c7babdc",
   "metadata": {
    "execution": {
     "iopub.execute_input": "2022-12-14T06:49:31.820842Z",
     "iopub.status.busy": "2022-12-14T06:49:31.820406Z",
     "iopub.status.idle": "2022-12-14T06:49:31.828267Z",
     "shell.execute_reply": "2022-12-14T06:49:31.826879Z",
     "shell.execute_reply.started": "2022-12-14T06:49:31.820798Z"
    },
    "papermill": {
     "duration": null,
     "end_time": null,
     "exception": null,
     "start_time": null,
     "status": "pending"
    },
    "tags": []
   },
   "outputs": [],
   "source": [
    "u_m = np.vstack((u_m.T,label2000)).T"
   ]
  },
  {
   "cell_type": "code",
   "execution_count": null,
   "id": "83045595",
   "metadata": {
    "execution": {
     "iopub.execute_input": "2022-12-14T06:49:35.162872Z",
     "iopub.status.busy": "2022-12-14T06:49:35.161129Z",
     "iopub.status.idle": "2022-12-14T06:49:35.172840Z",
     "shell.execute_reply": "2022-12-14T06:49:35.170930Z",
     "shell.execute_reply.started": "2022-12-14T06:49:35.162709Z"
    },
    "papermill": {
     "duration": null,
     "end_time": null,
     "exception": null,
     "start_time": null,
     "status": "pending"
    },
    "tags": []
   },
   "outputs": [],
   "source": [
    "u_m.shape"
   ]
  },
  {
   "cell_type": "code",
   "execution_count": null,
   "id": "d74de3f2",
   "metadata": {
    "execution": {
     "iopub.execute_input": "2022-12-14T06:49:36.171092Z",
     "iopub.status.busy": "2022-12-14T06:49:36.170578Z",
     "iopub.status.idle": "2022-12-14T06:49:36.192132Z",
     "shell.execute_reply": "2022-12-14T06:49:36.190166Z",
     "shell.execute_reply.started": "2022-12-14T06:49:36.171056Z"
    },
    "papermill": {
     "duration": null,
     "end_time": null,
     "exception": null,
     "start_time": null,
     "status": "pending"
    },
    "tags": []
   },
   "outputs": [],
   "source": [
    "umap_df = pd.DataFrame(data=u_m,columns=('1st_comp','2nd_comp','label'))\n",
    "umap_df"
   ]
  },
  {
   "cell_type": "code",
   "execution_count": null,
   "id": "66f856c4",
   "metadata": {
    "execution": {
     "iopub.execute_input": "2022-12-14T06:49:37.131262Z",
     "iopub.status.busy": "2022-12-14T06:49:37.130737Z",
     "iopub.status.idle": "2022-12-14T06:49:37.961909Z",
     "shell.execute_reply": "2022-12-14T06:49:37.960448Z",
     "shell.execute_reply.started": "2022-12-14T06:49:37.131221Z"
    },
    "papermill": {
     "duration": null,
     "end_time": null,
     "exception": null,
     "start_time": null,
     "status": "pending"
    },
    "tags": []
   },
   "outputs": [],
   "source": [
    "sns.FacetGrid(umap_df,hue='label',size=7).map(plt.scatter,'1st_comp','2nd_comp').add_legend()\n",
    "plt.show()"
   ]
  },
  {
   "cell_type": "code",
   "execution_count": null,
   "id": "277c2232",
   "metadata": {
    "execution": {
     "iopub.execute_input": "2022-12-14T06:48:36.622267Z",
     "iopub.status.busy": "2022-12-14T06:48:36.621798Z",
     "iopub.status.idle": "2022-12-14T06:48:36.630106Z",
     "shell.execute_reply": "2022-12-14T06:48:36.628460Z",
     "shell.execute_reply.started": "2022-12-14T06:48:36.622230Z"
    },
    "papermill": {
     "duration": null,
     "end_time": null,
     "exception": null,
     "start_time": null,
     "status": "pending"
    },
    "tags": []
   },
   "outputs": [],
   "source": [
    "u_map3 = UMAP(n_neighbors=15, n_components=3, min_dist=0.1)"
   ]
  },
  {
   "cell_type": "code",
   "execution_count": null,
   "id": "dcea3edb",
   "metadata": {
    "execution": {
     "iopub.execute_input": "2022-12-14T06:48:36.932000Z",
     "iopub.status.busy": "2022-12-14T06:48:36.930804Z",
     "iopub.status.idle": "2022-12-14T06:48:44.194261Z",
     "shell.execute_reply": "2022-12-14T06:48:44.192867Z",
     "shell.execute_reply.started": "2022-12-14T06:48:36.931940Z"
    },
    "papermill": {
     "duration": null,
     "end_time": null,
     "exception": null,
     "start_time": null,
     "status": "pending"
    },
    "tags": []
   },
   "outputs": [],
   "source": [
    "u_m3 = u_map3.fit_transform(standard_data2000)"
   ]
  },
  {
   "cell_type": "code",
   "execution_count": null,
   "id": "92e9e9c9",
   "metadata": {
    "execution": {
     "iopub.execute_input": "2022-12-14T06:48:44.199178Z",
     "iopub.status.busy": "2022-12-14T06:48:44.197816Z",
     "iopub.status.idle": "2022-12-14T06:48:44.204841Z",
     "shell.execute_reply": "2022-12-14T06:48:44.203581Z",
     "shell.execute_reply.started": "2022-12-14T06:48:44.199118Z"
    },
    "papermill": {
     "duration": null,
     "end_time": null,
     "exception": null,
     "start_time": null,
     "status": "pending"
    },
    "tags": []
   },
   "outputs": [],
   "source": [
    "u_m3 = np.vstack((u_m3.T,label2000)).T"
   ]
  },
  {
   "cell_type": "code",
   "execution_count": null,
   "id": "38fba42a",
   "metadata": {
    "execution": {
     "iopub.execute_input": "2022-12-14T06:48:44.206766Z",
     "iopub.status.busy": "2022-12-14T06:48:44.206380Z",
     "iopub.status.idle": "2022-12-14T06:48:44.223178Z",
     "shell.execute_reply": "2022-12-14T06:48:44.221356Z",
     "shell.execute_reply.started": "2022-12-14T06:48:44.206731Z"
    },
    "papermill": {
     "duration": null,
     "end_time": null,
     "exception": null,
     "start_time": null,
     "status": "pending"
    },
    "tags": []
   },
   "outputs": [],
   "source": [
    "u_m3.shape"
   ]
  },
  {
   "cell_type": "code",
   "execution_count": null,
   "id": "4d79e400",
   "metadata": {
    "execution": {
     "iopub.execute_input": "2022-12-14T06:48:44.226878Z",
     "iopub.status.busy": "2022-12-14T06:48:44.226406Z",
     "iopub.status.idle": "2022-12-14T06:48:44.248687Z",
     "shell.execute_reply": "2022-12-14T06:48:44.247744Z",
     "shell.execute_reply.started": "2022-12-14T06:48:44.226827Z"
    },
    "papermill": {
     "duration": null,
     "end_time": null,
     "exception": null,
     "start_time": null,
     "status": "pending"
    },
    "tags": []
   },
   "outputs": [],
   "source": [
    "umap_df3 = pd.DataFrame(data=u_m3,columns=('1st_comp','2nd_comp','3rd_comp','label'))\n",
    "umap_df3"
   ]
  },
  {
   "cell_type": "code",
   "execution_count": null,
   "id": "32a51ae3",
   "metadata": {
    "execution": {
     "iopub.execute_input": "2022-12-14T06:48:44.250627Z",
     "iopub.status.busy": "2022-12-14T06:48:44.250165Z",
     "iopub.status.idle": "2022-12-14T06:48:44.325111Z",
     "shell.execute_reply": "2022-12-14T06:48:44.323731Z",
     "shell.execute_reply.started": "2022-12-14T06:48:44.250581Z"
    },
    "papermill": {
     "duration": null,
     "end_time": null,
     "exception": null,
     "start_time": null,
     "status": "pending"
    },
    "tags": []
   },
   "outputs": [],
   "source": [
    "fig = px.scatter_3d(umap_df3, x='1st_comp', y='2nd_comp', z='3rd_comp',\n",
    "              color='label')\n",
    "fig.show()"
   ]
  },
  {
   "cell_type": "markdown",
   "id": "e9c66131",
   "metadata": {
    "papermill": {
     "duration": null,
     "end_time": null,
     "exception": null,
     "start_time": null,
     "status": "pending"
    },
    "tags": []
   },
   "source": [
    "Here data is almost clearly seperable compared to other methods\n",
    "so from these we can conclude that UMAP works in dimensionality reduction\n",
    "\n",
    "It is clear that t-SNE and UMAP show a better separation of the classes compared to PCA\n",
    "\n",
    "UMAP preseves global structure very well compared to tsne\n",
    "\n"
   ]
  },
  {
   "cell_type": "markdown",
   "id": "c1a01ebb",
   "metadata": {
    "papermill": {
     "duration": null,
     "end_time": null,
     "exception": null,
     "start_time": null,
     "status": "pending"
    },
    "tags": []
   },
   "source": [
    "Dimensionality reduction techniques are great for feature reduction and visualization of samples in low dimensions.\n",
    "When we use the results of a low-dimensional space for decision-making, we should always be aware that a map is merely a projection of a higher complex dimensional space."
   ]
  },
  {
   "cell_type": "code",
   "execution_count": null,
   "id": "9fdcd52e",
   "metadata": {
    "papermill": {
     "duration": null,
     "end_time": null,
     "exception": null,
     "start_time": null,
     "status": "pending"
    },
    "tags": []
   },
   "outputs": [],
   "source": []
  }
 ],
 "metadata": {
  "kernelspec": {
   "display_name": "Python 3",
   "language": "python",
   "name": "python3"
  },
  "language_info": {
   "codemirror_mode": {
    "name": "ipython",
    "version": 3
   },
   "file_extension": ".py",
   "mimetype": "text/x-python",
   "name": "python",
   "nbconvert_exporter": "python",
   "pygments_lexer": "ipython3",
   "version": "3.7.12"
  },
  "papermill": {
   "default_parameters": {},
   "duration": 19.666206,
   "end_time": "2022-12-14T07:37:58.184237",
   "environment_variables": {},
   "exception": true,
   "input_path": "__notebook__.ipynb",
   "output_path": "__notebook__.ipynb",
   "parameters": {},
   "start_time": "2022-12-14T07:37:38.518031",
   "version": "2.3.4"
  }
 },
 "nbformat": 4,
 "nbformat_minor": 5
}
